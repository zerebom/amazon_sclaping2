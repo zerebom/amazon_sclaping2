{
 "cells": [
  {
   "cell_type": "code",
   "execution_count": null,
   "metadata": {},
   "outputs": [],
   "source": [
    "import sys;sys.path.append('../src')\n",
    "from DB import *\n",
    "from LAB import *\n",
    "from BS4 import *\n",
    "from User import *"
   ]
  },
  {
   "cell_type": "code",
   "execution_count": null,
   "metadata": {},
   "outputs": [],
   "source": []
  },
  {
   "cell_type": "code",
   "execution_count": null,
   "metadata": {},
   "outputs": [],
   "source": [
    "db_path='../../data/db/'\n",
    "\n",
    "Rdb=DB(db_path+'1206supconserva_review.db')\n",
    "Rdb2=DB(db_path+'1206antiliberal_review.db')\n",
    "Wdb=DB(db_path+'1207conserva_category.db')\n",
    "Wdb.create_table('category','id,product_name,review_title,textlen,text,category1,category2,category3,category4,category5,anti,url')"
   ]
  },
  {
   "cell_type": "code",
   "execution_count": null,
   "metadata": {},
   "outputs": [],
   "source": [
    "Rc=Rdb.select_data('id,pd_name,url','review','where id <= 100')\n",
    "for i,row in enumerate(Rc):\n",
    "    if i<=1001:\n",
    "        continue\n",
    "    print(str(i)+'番目の人')\n",
    "    _id=row[0]\n",
    "    pd_name=row[1]\n",
    "    url=row[2]\n",
    "    infolist=BS4(url).get_reviewtext_data()\n",
    "    Wdb.save_text_category_data(_id,pd_name,infolist,'category',anti='0',url=url)\n",
    "    print(row[0],end=' ')\n",
    "\n",
    "    \n",
    "\n",
    "Rc2=Rdb2.select_data('id,pd_name,url','review','where id <= 100')\n",
    "for i,row in enumerate(Rc2):\n",
    "    print(str(i)+'番目の人')\n",
    "    _id=row[0]\n",
    "    pd_name=row[1]\n",
    "    url=row[2]\n",
    "    infolist=BS4(url).get_reviewtext_data()\n",
    "    Wdb.save_text_category_data(_id,pd_name,infolist,'category',anti='1',url=url)\n",
    "    print(row[0],end=' ')"
   ]
  },
  {
   "cell_type": "code",
   "execution_count": null,
   "metadata": {},
   "outputs": [],
   "source": []
  },
  {
   "cell_type": "code",
   "execution_count": null,
   "metadata": {},
   "outputs": [],
   "source": [
    "\n",
    "# infolist=BS4('https://www.amazon.co.jp/gp/customer-reviews/R2NTYC16QC6Z8M?ref=pf_vv_at_pdctrvw_srp').get_reviewtext_data()\n",
    "category = BS4('https://www.amazon.co.jp/gp/customer-reviews/R2NTYC16QC6Z8M?ref=pf_vv_at_pdctrvw_srp').get_category2('https://www.amazon.co.jp/艦長たちの太平洋戦争―34人の艦長が語った勇者の条件-光人社NF文庫-佐藤-和正/dp/4769820097/ref=cm_cr_srp_d_product_top?ie=UTF8')"
   ]
  },
  {
   "cell_type": "code",
   "execution_count": null,
   "metadata": {},
   "outputs": [],
   "source": []
  }
 ],
 "metadata": {
  "kernelspec": {
   "display_name": "Python 3",
   "language": "python",
   "name": "python3"
  },
  "language_info": {
   "codemirror_mode": {
    "name": "ipython",
    "version": 3
   },
   "file_extension": ".py",
   "mimetype": "text/x-python",
   "name": "python",
   "nbconvert_exporter": "python",
   "pygments_lexer": "ipython3",
   "version": "3.7.1"
  }
 },
 "nbformat": 4,
 "nbformat_minor": 2
}
