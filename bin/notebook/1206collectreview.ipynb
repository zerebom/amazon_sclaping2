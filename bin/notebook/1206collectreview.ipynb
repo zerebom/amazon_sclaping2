{
 "cells": [
  {
   "cell_type": "markdown",
   "metadata": {},
   "source": [
    "1205と全く同じコード  \n",
    "同時に進めるために書いた。"
   ]
  },
  {
   "cell_type": "code",
   "execution_count": 7,
   "metadata": {},
   "outputs": [
    {
     "name": "stdout",
     "output_type": "stream",
     "text": [
      " the table was made already.\n"
     ]
    }
   ],
   "source": [
    "import sys;sys.path.append('../src')\n",
    "from DB import *\n",
    "from LAB import *\n",
    "from BS4 import *\n",
    "from User import *\n",
    "db_path='../../data/db/'\n",
    "amazon_head='https://www.amazon.co.jp'\n",
    "rdb=DB(db_path+'1204liberal_user_data.db')\n",
    "anti_lib=rdb.select_data('id,name,book,book_star, url','users','where book >3')\n",
    "\n",
    "\n",
    "# wdb=DB(db_path+'1206antiliberal_review.db')\n",
    "wdb=DB(db_path+'1206supliberal_review.db')\n",
    "\n",
    "wdb.create_table('review','id, username,star,pd_name,url')"
   ]
  },
  {
   "cell_type": "code",
   "execution_count": 9,
   "metadata": {},
   "outputs": [
    {
     "name": "stdout",
     "output_type": "stream",
     "text": [
      "(5, 'しがみつかない生き方―「ふつうの幸せ」を手に入れる10のルール (幻冬舎新書)', 5.0, '江湖のおやじ', '/gp/profile/amzn1.account.AGHZMHQBYDN7YCF4Z6ZO3DKGW7PQ/ref=cm_cr_arp_d_gw_btm?ie=UTF8')\n"
     ]
    }
   ],
   "source": [
    "for i in anti_lib:\n",
    "    print(i)\n",
    "    break"
   ]
  },
  {
   "cell_type": "code",
   "execution_count": null,
   "metadata": {},
   "outputs": [],
   "source": [
    "for i,row in enumerate(anti_lib):\n",
    "    url=amazon_head+row[4]\n",
    "    name=row[1]\n",
    "    review_url,products_name,products_star=BS4(url).get_product_url(500)\n",
    "    wdb.save_review_data(name,review_url,products_name,products_star,'review')\n",
    "    print(i,end=' ')"
   ]
  },
  {
   "cell_type": "code",
   "execution_count": null,
   "metadata": {},
   "outputs": [],
   "source": []
  }
 ],
 "metadata": {
  "kernelspec": {
   "display_name": "Python 3",
   "language": "python",
   "name": "python3"
  },
  "language_info": {
   "codemirror_mode": {
    "name": "ipython",
    "version": 3
   },
   "file_extension": ".py",
   "mimetype": "text/x-python",
   "name": "python",
   "nbconvert_exporter": "python",
   "pygments_lexer": "ipython3",
   "version": "3.7.1"
  }
 },
 "nbformat": 4,
 "nbformat_minor": 2
}
