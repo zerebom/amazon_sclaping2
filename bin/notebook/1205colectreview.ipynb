{
 "cells": [
  {
   "cell_type": "code",
   "execution_count": null,
   "metadata": {},
   "outputs": [],
   "source": [
    "import sys;sys.path.append('../src')\n",
    "from DB import *\n",
    "from LAB import *\n",
    "from BS4 import *\n",
    "from User import *"
   ]
  },
  {
   "cell_type": "code",
   "execution_count": null,
   "metadata": {},
   "outputs": [],
   "source": []
  },
  {
   "cell_type": "code",
   "execution_count": null,
   "metadata": {},
   "outputs": [],
   "source": [
    "amazon_head='https://www.amazon.co.jp'\n",
    "# BS4('https://www.amazon.co.jp/gp/profile/amzn1.account.AGKOW57VGTXIXTGQOC32KE2CJWNA/ref=cm_cr_srp_d_gw_btm?ie=UTF8').get_product_url(20)"
   ]
  },
  {
   "cell_type": "code",
   "execution_count": null,
   "metadata": {},
   "outputs": [],
   "source": [
    "db_path='../../data/db/'\n",
    "\n",
    "rdb=DB(db_path+'1204conserva_user_data.db')\n",
    "anti_con=rdb.select_data('id,name,book,book_star, url','users','where book > 3')\n",
    "\n",
    "\n",
    "wdb=DB(db_path+'1206supconserva_review.db')\n",
    "wdb.create_table('review','id, username,star,pd_name,url')"
   ]
  },
  {
   "cell_type": "code",
   "execution_count": null,
   "metadata": {},
   "outputs": [],
   "source": []
  },
  {
   "cell_type": "code",
   "execution_count": null,
   "metadata": {},
   "outputs": [],
   "source": [
    "for i,row in enumerate(anti_con):\n",
    "    url=amazon_head+row[4]\n",
    "    name=row[1]\n",
    "    review_url,products_name,products_star=BS4(url).get_product_url(500)\n",
    "    wdb.save_review_data(name,review_url,products_name,products_star,'review')\n",
    "    print(i,end=' ')"
   ]
  },
  {
   "cell_type": "code",
   "execution_count": null,
   "metadata": {},
   "outputs": [],
   "source": []
  },
  {
   "cell_type": "code",
   "execution_count": null,
   "metadata": {},
   "outputs": [],
   "source": []
  }
 ],
 "metadata": {
  "kernelspec": {
   "display_name": "Python 3",
   "language": "python",
   "name": "python3"
  },
  "language_info": {
   "codemirror_mode": {
    "name": "ipython",
    "version": 3
   },
   "file_extension": ".py",
   "mimetype": "text/x-python",
   "name": "python",
   "nbconvert_exporter": "python",
   "pygments_lexer": "ipython3",
   "version": "3.7.1"
  }
 },
 "nbformat": 4,
 "nbformat_minor": 2
}
