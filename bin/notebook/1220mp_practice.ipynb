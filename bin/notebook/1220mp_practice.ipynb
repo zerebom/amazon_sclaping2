{
 "cells": [
  {
   "cell_type": "code",
   "execution_count": 4,
   "metadata": {},
   "outputs": [],
   "source": [
    "import sys;sys.path.append('../src')\n",
    "from DB import *\n",
    "from LAB import *\n",
    "from BS4 import *\n",
    "from User import *\n",
    "import multiprocessing "
   ]
  },
  {
   "cell_type": "code",
   "execution_count": 5,
   "metadata": {},
   "outputs": [
    {
     "name": "stdout",
     "output_type": "stream",
     "text": [
      "https://www.amazon.co.jp/gp/customer-reviews/R3UDMWUXAQKMBZ?ref=pf_vv_at_pdctrvw_srp\n",
      "https://www.amazon.co.jp/gp/customer-reviews/RNDPWMCZN17J?ref=pf_vv_at_pdctrvw_srp\n",
      "https://www.amazon.co.jp/gp/customer-reviews/R2O7HPA5ATYX1D?ref=pf_vv_at_pdctrvw_srp\n",
      "https://www.amazon.co.jp/gp/customer-reviews/R1VZULRHB0YFCB?ref=pf_vv_at_pdctrvw_srp\n",
      "https://www.amazon.co.jp/gp/customer-reviews/R1G1WXO6DRY80T?ref=pf_vv_at_pdctrvw_srp\n",
      "https://www.amazon.co.jp/gp/customer-reviews/R1NFDHHXBE0EKB?ref=pf_vv_at_pdctrvw_srp\n",
      "finish\n"
     ]
    }
   ],
   "source": [
    "db_path='../../data/db/'\n",
    "Rdb=DB(db_path+'1206supconserva_review.db')\n",
    "Rc=Rdb.select_data('id,pd_name,url,star','review','where id <= 100')\n",
    "if __name__ == '__main__':\n",
    "    for i,r in enumerate(Rc):\n",
    "        user_id,pd_name,rv_url,star=r[0],r[1],r[2],r[3]\n",
    "        print(rv_url)\n",
    "        jobs=[]\n",
    "        job=multiprocessing.Process(target=BS4.get_reviewtext_nocategory,args=rv_url)\n",
    "        jobs.append(job)\n",
    "        job.start()\n",
    "        if i==5:\n",
    "            break\n",
    "    [job.join() for job in jobs]\n",
    "    print('finish')"
   ]
  },
  {
   "cell_type": "code",
   "execution_count": null,
   "metadata": {},
   "outputs": [
    {
     "name": "stdout",
     "output_type": "stream",
     "text": [
      "Washing salad dish\n",
      "Washing bread dish\n",
      "Washing entree dish\n",
      "Washing dessert dish\n"
     ]
    }
   ],
   "source": [
    "def washer(dishes, output):\n",
    "    for dish in dishes:\n",
    "        print('Washing', dish, 'dish')\n",
    "        output.put(dish)\n",
    "\n",
    "def dryer(input):\n",
    "    while True:\n",
    "        dish = input.get()\n",
    "        print('Drying', dish, 'dish')\n",
    "        input.task_done()\n",
    "\n",
    "dish_queue = mp.JoinableQueue()\n",
    "dryer_proc = mp.Process(target=dryer, args=(dish_queue,))\n",
    "dryer_proc.daemon = True\n",
    "dryer_proc.start()\n",
    "\n",
    "dishes = ['salad', 'bread', 'entree', 'dessert']\n",
    "washer(dishes, dish_queue)\n",
    "dish_queue.join()"
   ]
  },
  {
   "cell_type": "code",
   "execution_count": 2,
   "metadata": {},
   "outputs": [
    {
     "name": "stdout",
     "output_type": "stream",
     "text": [
      "Washing salad\n",
      "WashingDrying salad\n",
      " bread\n",
      "WashingDrying bread\n",
      " entree\n",
      "WashingDrying entree\n",
      " desert\n",
      "Drying desert\n"
     ]
    }
   ],
   "source": [
    "import threading, queue\n",
    "import time\n",
    "\n",
    "def washer(dishes, dish_queue):\n",
    "    for dish in dishes:\n",
    "        print (\"Washing\", dish)\n",
    "        time.sleep(5)\n",
    "        dish_queue.put(dish)\n",
    "\n",
    "def dryer(dish_queue):\n",
    "    while True:\n",
    "        dish = dish_queue.get()\n",
    "        print (\"Drying\", dish)\n",
    "        time.sleep(10)\n",
    "        dish_queue.task_done()\n",
    "\n",
    "\n",
    "dish_queue = queue.Queue()\n",
    "for n in range(2):\n",
    "    dryer_thread = threading.Thread(target=dryer, args=(dish_queue,))\n",
    "    dryer_thread.start()\n",
    "\n",
    "dishes = ['salad', 'bread', 'entree', 'desert']\n",
    "washer(dishes, dish_queue)\n",
    "dish_queue.join()"
   ]
  },
  {
   "cell_type": "code",
   "execution_count": 1,
   "metadata": {},
   "outputs": [],
   "source": [
    "from multiprocessing import Pool"
   ]
  },
  {
   "cell_type": "code",
   "execution_count": null,
   "metadata": {},
   "outputs": [],
   "source": [
    "\n",
    "\n",
    "def nijou(x):\n",
    "    print(x*x)\n",
    "    \n",
    "if __name__=='__main__':\n",
    "    p=Pool(4)\n",
    "    p.map(nijou,range(10))"
   ]
  },
  {
   "cell_type": "code",
   "execution_count": 12,
   "metadata": {},
   "outputs": [
    {
     "name": "stdout",
     "output_type": "stream",
     "text": [
      "[[1, '儒教に支配された中国人と韓国人の悲劇 (講談社+α新書)', 'https://www.amazon.co.jp/gp/customer-reviews/R3UDMWUXAQKMBZ?ref=pf_vv_at_pdctrvw_srp', '5'], [2, '天然水晶さざれ 浄化さざれ 天然石 パワーストーン 浄化用さざれ M100g', 'https://www.amazon.co.jp/gp/customer-reviews/RNDPWMCZN17J?ref=pf_vv_at_pdctrvw_srp', '5'], [3, 'サインスマート 3Dプリンター用 フィラメント ABS樹脂 1.75mm1kg Makerbot / Reprap 3Dプリンター対応 8色選択可! ホワイト', 'https://www.amazon.co.jp/gp/customer-reviews/R2O7HPA5ATYX1D?ref=pf_vv_at_pdctrvw_srp', '5'], [4, 'サクラクレパス 絵の具 マット水彩 ポリチューブ入り 12色セットMW12PR', 'https://www.amazon.co.jp/gp/customer-reviews/R1VZULRHB0YFCB?ref=pf_vv_at_pdctrvw_srp', '5'], [5, 'Pxmalion Flexible TPU3Dプリンター用FLEX弾性樹脂フィラメント素材 フレキシブルマテ…', 'https://www.amazon.co.jp/gp/customer-reviews/R1G1WXO6DRY80T?ref=pf_vv_at_pdctrvw_srp', '5'], [6, 'ボンド ネジやま救助隊ゆるみ止め 4ml #75104', 'https://www.amazon.co.jp/gp/customer-reviews/R1NFDHHXBE0EKB?ref=pf_vv_at_pdctrvw_srp', '5'], [7, 'SONYソニー NP-FP50/FP70/FP90対応互換充電器', 'https://www.amazon.co.jp/gp/customer-reviews/RJ0FEA3VMYWZP?ref=pf_vv_at_pdctrvw_srp', '5']]\n",
      "=========\n",
      "[[8, 'カトージ プレイヤード NewYorkBaby 63408', 'https://www.amazon.co.jp/gp/customer-reviews/R1K7U1MS6VH52N?ref=pf_vv_at_pdctrvw_srp', '5'], [9, 'Wondershare データリカバリー （Win版）データ復元ソフトsdカード usbデータ ゴミ箱 ファイル 復元 hdd 復旧 ソフト｜ワン…', 'https://www.amazon.co.jp/gp/customer-reviews/R32Z2XG7ODAG4Y?ref=pf_vv_at_pdctrvw_srp', '5'], [10, 'cotta(コッタ) 食品用乾燥剤 シリカゲル 2g 40×50mm 100個002009', 'https://www.amazon.co.jp/gp/customer-reviews/RZF2IBH42QE5N?ref=pf_vv_at_pdctrvw_srp', '5'], [11, '古代天皇家と日本正史―現人神と万世一系の超秘密', 'https://www.amazon.co.jp/gp/customer-reviews/R33BAY57LF8PQT?ref=pf_vv_at_pdctrvw_srp', '5'], [12, '貝印 KAI 真空ポンプ & 保存袋 (スターターセット) Kai House SelectDH2058', 'https://www.amazon.co.jp/gp/customer-reviews/R2UGW43A8364T6?ref=pf_vv_at_pdctrvw_srp', '5'], [13, 'RHS-28ATC 塩分濃度計 0-28％ 温度自動補正（ATC)付き手持屈折計 食品や海水の測定に最適', 'https://www.amazon.co.jp/gp/customer-reviews/R1X1MHFZ7H4Z2C?ref=pf_vv_at_pdctrvw_srp', '5']]\n",
      "=========\n",
      "[[14, 'no_product', 'https://www.amazon.co.jp/gp/customer-reviews/R3MGDGLAK69LLR?ref=pf_vv_at_pdctrvw_srp', '5'], [15, '天皇裕仁と地方都市空襲', 'https://www.amazon.co.jp/gp/customer-reviews/R1XKSJHVOG0IZC?ref=pf_vv_at_pdctrvw_srp', '5'], [16, 'ONKYO SE-U33GX+ WAVIO USBデジタルオーディオプロセッサー', 'https://www.amazon.co.jp/gp/customer-reviews/R3A3B3QTS7XFPK?ref=pf_vv_at_pdctrvw_srp', '5'], [17, 'PLANEX USB2.0接続 ハードディスクケース PL-35UA', 'https://www.amazon.co.jp/gp/customer-reviews/R2J863VWMSVKZU?ref=pf_vv_at_pdctrvw_srp', '5'], [18, 'エプソン 純正 インクカートリッジ IC6CL50 6色セット(目印:風船)', 'https://www.amazon.co.jp/gp/customer-reviews/R3VPPTHDIGOW7M?ref=pf_vv_at_pdctrvw_srp', '5'], [19, '消された王権・物部氏の謎―オニの系譜から解く古代史 (PHP文庫)', 'https://www.amazon.co.jp/gp/customer-reviews/R30FW3PIRWFNJF?ref=pf_vv_at_pdctrvw_srp', '5']]\n",
      "=========\n",
      "[[20, '三河 松平一族 ~徳川将軍家のルーツ (洋泉社MC新書)', 'https://www.amazon.co.jp/gp/customer-reviews/R2PTFOIXCKKKX2?ref=pf_vv_at_pdctrvw_srp', '4'], [21, 'サンワサプライ 電池ケース(単3形用・クリアー) DG-BT3C', 'https://www.amazon.co.jp/gp/customer-reviews/RHY4KQNGCQMJ0?ref=pf_vv_at_pdctrvw_srp', '3'], [22, 'SANYO eneloop ニッケル水素電池 単3形 4本パック HR-3UTG-4BP', 'https://www.amazon.co.jp/gp/customer-reviews/R3ROIVZAJK764X?ref=pf_vv_at_pdctrvw_srp', '5'], [23, 'Shadeの達人', 'https://www.amazon.co.jp/gp/customer-reviews/R2EK83E67R68S3?ref=pf_vv_at_pdctrvw_srp', '5'], [24, 'Shade 10 Basic for Windows', 'https://www.amazon.co.jp/gp/customer-reviews/R1W1AVHU2ZIS68?ref=pf_vv_at_pdctrvw_srp', '5'], [25, '三浦一族と相模武士', 'https://www.amazon.co.jp/gp/customer-reviews/R3JA04KZ4APYMW?ref=pf_vv_at_pdctrvw_srp', '5']]\n",
      "=========\n",
      "[[26, '一太郎2009 バージョンアップ版', 'https://www.amazon.co.jp/gp/customer-reviews/RKV087ZQO8X0R?ref=pf_vv_at_pdctrvw_srp', '5'], [27, '海を渡ってきた古代倭王 その正体と興亡', 'https://www.amazon.co.jp/gp/customer-reviews/R1SDM096EXG5EG?ref=pf_vv_at_pdctrvw_srp', '5'], [28, 'EPSON カラリオ・プリンタ PM-G850', 'https://www.amazon.co.jp/gp/customer-reviews/RI80D756ZYL8C?ref=pf_vv_at_pdctrvw_srp', '5'], [29, '色紙百人一首', 'https://www.amazon.co.jp/gp/customer-reviews/R1SLE9I1CCLZ8X?ref=pf_vv_at_pdctrvw_srp', '5'], [30, '中古ノートパソコン 富士通 LIFEBOOK FMV-C8250 Core2Duo15型液晶 DVDコンボ Windows7 KingsoftOffice2013', 'https://www.amazon.co.jp/gp/customer-reviews/R1GF7ZIGROURS2?ref=pf_vv_at_pdctrvw_srp', '5'], [31, '【15型TFT液晶】【DVDマルチ】中古ノートパソコン FUJITSULIFEBOOK FMV-C8250 Core2Duo T5500 1.66GHz/PC2-5300 2…', 'https://www.amazon.co.jp/gp/customer-reviews/R1MC8UWWF5RTIR?ref=pf_vv_at_pdctrvw_srp', '5']]\n",
      "=========\n",
      "[[32, 'ハセガワ 1/72 日本海軍 中島 B5N2 九七式三号艦上攻撃機プラモデル A7', 'https://www.amazon.co.jp/gp/customer-reviews/R1FVK3188CKZ7W?ref=pf_vv_at_pdctrvw_srp', '5'], [1, 'サムライウーマン シャンプー 550ml NEW', 'https://www.amazon.co.jp/gp/customer-reviews/R1CGSXP08II8JH?ref=pf_vv_at_pdctrvw_srp', '2'], [2, 'イギリスお土産 テリーズチョコレート オレンジミルク3箱セット', 'https://www.amazon.co.jp/gp/customer-reviews/RICBRMX9IOUGR?ref=pf_vv_at_pdctrvw_srp', '3'], [3, 'ウォーカー ショートブレッドフィンガー#110 250g', 'https://www.amazon.co.jp/gp/customer-reviews/R1YY7I2GW12H50?ref=pf_vv_at_pdctrvw_srp', '5'], [4, '儒教に支配された中国人と韓国人の悲劇 (講談社+α新書)', 'https://www.amazon.co.jp/gp/customer-reviews/R2NXMYUAV52GK6?ref=pf_vv_at_pdctrvw_srp', '4'], [5, '夜のピクニック (新潮文庫)', 'https://www.amazon.co.jp/gp/customer-reviews/R45B33ANSH93E?ref=pf_vv_at_pdctrvw_srp', '5']]\n",
      "=========\n"
     ]
    }
   ],
   "source": [
    "db_path='../../data/db/'\n",
    "Rdb=DB(db_path+'1206supconserva_review.db')\n",
    "Rc=Rdb.select_data('id,pd_name,url,star','review','where id <= 100')\n",
    "\n",
    "jenes=jene()\n",
    "for rows in jenes:\n",
    "    rows=[list(row) for row in rows]\n",
    "    print(rows)\n",
    "    print('=========')\n",
    "    "
   ]
  },
  {
   "cell_type": "code",
   "execution_count": null,
   "metadata": {},
   "outputs": [],
   "source": []
  }
 ],
 "metadata": {
  "kernelspec": {
   "display_name": "Python 3",
   "language": "python",
   "name": "python3"
  },
  "language_info": {
   "codemirror_mode": {
    "name": "ipython",
    "version": 3
   },
   "file_extension": ".py",
   "mimetype": "text/x-python",
   "name": "python",
   "nbconvert_exporter": "python",
   "pygments_lexer": "ipython3",
   "version": "3.7.1"
  }
 },
 "nbformat": 4,
 "nbformat_minor": 2
}
